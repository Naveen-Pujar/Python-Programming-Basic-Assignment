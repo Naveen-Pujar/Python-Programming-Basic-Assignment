{
 "cells": [
  {
   "cell_type": "markdown",
   "metadata": {},
   "source": [
    "## 1. Write a Python program to convert kilometers to miles?"
   ]
  },
  {
   "cell_type": "code",
   "execution_count": null,
   "metadata": {},
   "outputs": [],
   "source": [
    "def km_miles(value):\n",
    "    \n",
    "    miles = 0.621371 * float(value)\n",
    "    \n",
    "    return f'{miles} miles'\n",
    "\n",
    "value = input('Enter the value which is to be converted to miles: ')\n",
    "km_miles(value)"
   ]
  },
  {
   "cell_type": "markdown",
   "metadata": {},
   "source": [
    "## ----------------------------------------------------------------------------------------------------------------------------------"
   ]
  },
  {
   "cell_type": "markdown",
   "metadata": {},
   "source": [
    "## 2. Write a Python program to convert Celsius to Fahrenheit?"
   ]
  },
  {
   "cell_type": "code",
   "execution_count": null,
   "metadata": {},
   "outputs": [],
   "source": [
    "def deg_fahr(value):\n",
    "    \n",
    "    Fahrenheit = (float(value) * (9/5)) + 32\n",
    "    \n",
    "    return f'{Fahrenheit} Fahrenheit'\n",
    "\n",
    "value = input('Enter the value which is to converted to Fahrenheit: ')\n",
    "deg_fahr(value)"
   ]
  },
  {
   "cell_type": "markdown",
   "metadata": {},
   "source": [
    "## ----------------------------------------------------------------------------------------------------------------------------------"
   ]
  },
  {
   "cell_type": "markdown",
   "metadata": {},
   "source": [
    "## 3. Write a Python program to display calendar?"
   ]
  },
  {
   "cell_type": "code",
   "execution_count": null,
   "metadata": {},
   "outputs": [],
   "source": [
    "import calendar\n",
    "\n",
    "year = int(input('Enter the year: '))\n",
    "month = int(input('Enter the year: '))\n",
    "\n",
    "print('\\n')\n",
    "print(calendar.month(year,month))"
   ]
  },
  {
   "cell_type": "markdown",
   "metadata": {},
   "source": [
    "## ----------------------------------------------------------------------------------------------------------------------------------"
   ]
  },
  {
   "cell_type": "markdown",
   "metadata": {},
   "source": [
    "## 4. Write a Python program to solve quadratic equation?"
   ]
  },
  {
   "cell_type": "code",
   "execution_count": null,
   "metadata": {},
   "outputs": [],
   "source": [
    "import cmath\n",
    "\n",
    "def shridharas_formula(a,b,c):\n",
    "    \n",
    "    d = b**2 - (4*a*c)\n",
    "    \n",
    "    sol_1 = (-b - cmath.sqrt(d)) / (2 * a)\n",
    "    sol_2 = (-b + cmath.sqrt(d)) / (2 * a)\n",
    "    \n",
    "    return f\"The solutions are {sol_1} and {sol_2}\"\n",
    "    \n",
    "a =float(input('Enter constant a: '))\n",
    "b =float(input('Enter constant b: '))\n",
    "c =float(input('Enter constant c: '))\n",
    "\n",
    "shridharas_formula(a,b,c)"
   ]
  },
  {
   "cell_type": "markdown",
   "metadata": {},
   "source": [
    "## ----------------------------------------------------------------------------------------------------------------------------------"
   ]
  },
  {
   "cell_type": "markdown",
   "metadata": {},
   "source": [
    "## 5. Write a Python program to swap two variables without temp variable?"
   ]
  },
  {
   "cell_type": "code",
   "execution_count": null,
   "metadata": {},
   "outputs": [],
   "source": [
    "x = input('Enter the first variable \"x\": ' )\n",
    "y = input('Enter the second variable \"y\": ' )\n",
    "\n",
    "print(f'\\nbefore swapping---> x = {x} , y = {y}')\n",
    "\n",
    "x , y = y, x\n",
    "\n",
    "print(f'\\nafter swapping---> x = {x} , y = {y}')"
   ]
  },
  {
   "cell_type": "markdown",
   "metadata": {},
   "source": [
    "## ----------------------------------------------------------------------------------------------------------------------------------"
   ]
  }
 ],
 "metadata": {
  "kernelspec": {
   "display_name": "Python 3",
   "language": "python",
   "name": "python3"
  },
  "language_info": {
   "codemirror_mode": {
    "name": "ipython",
    "version": 3
   },
   "file_extension": ".py",
   "mimetype": "text/x-python",
   "name": "python",
   "nbconvert_exporter": "python",
   "pygments_lexer": "ipython3",
   "version": "3.8.5"
  }
 },
 "nbformat": 4,
 "nbformat_minor": 4
}
